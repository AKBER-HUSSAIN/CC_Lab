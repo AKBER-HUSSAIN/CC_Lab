{
  "nbformat": 4,
  "nbformat_minor": 0,
  "metadata": {
    "colab": {
      "provenance": [],
      "authorship_tag": "ABX9TyNTuJ0QX0sO89VSn8Pgqc+q",
      "include_colab_link": true
    },
    "kernelspec": {
      "name": "python3",
      "display_name": "Python 3"
    },
    "language_info": {
      "name": "python"
    }
  },
  "cells": [
    {
      "cell_type": "markdown",
      "metadata": {
        "id": "view-in-github",
        "colab_type": "text"
      },
      "source": [
        "<a href=\"https://colab.research.google.com/github/AKBER-HUSSAIN/CC_Lab/blob/main/week5.ipynb\" target=\"_parent\"><img src=\"https://colab.research.google.com/assets/colab-badge.svg\" alt=\"Open In Colab\"/></a>"
      ]
    },
    {
      "cell_type": "markdown",
      "source": [
        "1. Given an array where every element repeats twice except for one element find the unique element using bitweiise operators xor\n",
        "\n",
        "2. swap two numbers using bitwise , without temporanry variable  xor\n",
        "\n",
        "3. Given an array containing n distict numbers taken from 0 1 ...n , find one number that is missing from the array\n",
        "\n",
        "4. Number of 1st in the binary rep of an int using bitwise operators\n",
        "\n",
        "5. multipy 2 numbers using bitwise operators (shift left or right)"
      ],
      "metadata": {
        "id": "L_QV4K4vC8Uw"
      }
    },
    {
      "cell_type": "code",
      "source": [
        "class Main {\n",
        "    public static int findUnique(int[] arr){\n",
        "       int result=0;\n",
        "       for(int i: arr){\n",
        "           result ^= i;\n",
        "       }\n",
        "       return result;\n",
        "   }\n",
        "    public static void main(String[] args) {\n",
        "        int arr[]={1,1,2,2,3,4,4};\n",
        "        System.out.println(findUnique(arr));\n",
        "    }\n",
        "}"
      ],
      "metadata": {
        "id": "Ls0FyejVDP9P"
      },
      "execution_count": null,
      "outputs": []
    },
    {
      "cell_type": "code",
      "source": [
        "# Swap two numbers without using temp variable\n",
        "class Main{\n",
        "    public static void main(String[] args) {\n",
        "        int a=4,b=6;\n",
        "        System.out.println(\"a = \"+a+\" b = \"+b);\n",
        "        a=a^b;\n",
        "        b=a^b;\n",
        "        a=a^b;\n",
        "       System.out.println(\"a = \"+a+\" b = \"+b);\n",
        "    }\n",
        "}"
      ],
      "metadata": {
        "id": "JfG__VzAImJw"
      },
      "execution_count": null,
      "outputs": []
    },
    {
      "cell_type": "code",
      "source": [
        "#find missing element in an array containing n distinct elements except one using Bitwise operator(XOR)\n",
        "class Main {\n",
        "    public static int findMissing(int[] arr){\n",
        "        int xor=0;\n",
        "        for(int i=0;i<=arr.length;i++){\n",
        "            xor ^=i;\n",
        "            if(i!=arr.length){\n",
        "                xor ^=arr[i];\n",
        "            }\n",
        "        }\n",
        "        return xor;\n",
        "    }\n",
        "    public static void main(String[] args) {\n",
        "        int arr[]={0,2,4,3,5};\n",
        "        System.out.println(findMissing(arr));\n",
        "\n",
        "    }\n",
        "}"
      ],
      "metadata": {
        "id": "ShBNHxKZQ4Yv"
      },
      "execution_count": null,
      "outputs": []
    },
    {
      "cell_type": "code",
      "source": [
        "#count no. of 1s in binary representation of number using Bitwise operator\n",
        "class Main {\n",
        "    public static int count(int a){\n",
        "       int count=0;\n",
        "       while(a>0){\n",
        "           count += a & 1;\n",
        "           a >>= 1;\n",
        "       }\n",
        "       return count;\n",
        "    }\n",
        "    public static void main(String[] args) {\n",
        "        int a=11;\n",
        "        System.out.println(count(a));\n",
        "\n",
        "    }\n",
        "}"
      ],
      "metadata": {
        "id": "qbzFkxFzQ4PQ"
      },
      "execution_count": null,
      "outputs": []
    },
    {
      "cell_type": "code",
      "source": [
        "#multiply two numbers using bitwise operator\n",
        "class Main {\n",
        "    public static int multiply(int a,int b){\n",
        "       int result=0;\n",
        "       while(b>0){\n",
        "          if((b&1)==1){\n",
        "              result += a;\n",
        "          }\n",
        "           a <<= 1;\n",
        "           b >>= 1;\n",
        "\n",
        "       }\n",
        "       return result;\n",
        "    }\n",
        "    public static void main(String[] args) {\n",
        "        int a=2,b=3;\n",
        "        System.out.println(multiply(a,b));\n",
        "\n",
        "    }\n",
        "}"
      ],
      "metadata": {
        "id": "I_Uza5_FQ394"
      },
      "execution_count": null,
      "outputs": []
    }
  ]
}