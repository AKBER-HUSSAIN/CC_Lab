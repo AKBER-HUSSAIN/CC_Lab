{
  "nbformat": 4,
  "nbformat_minor": 0,
  "metadata": {
    "colab": {
      "provenance": [],
      "authorship_tag": "ABX9TyPO1RrqQEj7d30KVQ7mQ+IK",
      "include_colab_link": true
    },
    "kernelspec": {
      "name": "python3",
      "display_name": "Python 3"
    },
    "language_info": {
      "name": "python"
    }
  },
  "cells": [
    {
      "cell_type": "markdown",
      "metadata": {
        "id": "view-in-github",
        "colab_type": "text"
      },
      "source": [
        "<a href=\"https://colab.research.google.com/github/AKBER-HUSSAIN/CC_Lab/blob/main/cc_week4.ipynb\" target=\"_parent\"><img src=\"https://colab.research.google.com/assets/colab-badge.svg\" alt=\"Open In Colab\"/></a>"
      ]
    },
    {
      "cell_type": "markdown",
      "source": [],
      "metadata": {
        "id": "uQ3tLz32Swbv"
      }
    },
    {
      "cell_type": "markdown",
      "source": [
        "1. Chocolate Distribution Problem\n",
        "Given an array of n integers where each value represents no.of chocolates in packet, each packet can have a variable no. of chocolate , there are m no of students and the task is to distribute chocolate packets such that\n",
        " - each student should get atleast one packet\n",
        " - the difference b/w max and min no. of chocolates should be minimum\n",
        "2. Write an program to reverse the stack elements using recursion without using any loop and any other temporary stack\n",
        "3. Given a stack  of integers , sort it in ascending order using another temporary stack.\n",
        "4. Stack permutations\n",
        "All the possible outcomes of stack after applying sequence of push operation in input sequence [1,2,3,4] in that order only pop can be done at point of time."
      ],
      "metadata": {
        "id": "8k1X2QwDStww"
      }
    },
    {
      "cell_type": "code",
      "source": [
        "import java.util.*;\n",
        "public class ChocolateDistribution {\n",
        " // Function to find the minimum difference\n",
        "    static int findMinDiff(int[] arr, int n, int m) {\n",
        "        if (m == 0 || n == 0)\n",
        "            return 0;\n",
        "        if (m > n)\n",
        "            return -1; // not enough packets\n",
        "        Arrays.sort(arr); // sort packets\n",
        "        int minDiff = Integer.MAX_VALUE;\n",
        "        for (int i = 0; i + m - 1 < n; i++) {\n",
        "            int diff = arr[i + m - 1] - arr[i];\n",
        "            minDiff = Math.min(minDiff, diff);\n",
        "        }\n",
        "        return minDiff;\n",
        "    }\n",
        "    public static void main(String[] args) {\n",
        "    int[] packets = {7, 3, 2, 4, 9, 12, 56};\n",
        "    int students = 3;\n",
        "    int n = packets.length;\n",
        "    System.out.println(\"Minimum difference is: \" +\n",
        "    findMinDiff(packets, n, students));\n",
        "    }\n",
        "}"
      ],
      "metadata": {
        "id": "1YoxW8JpSw_P"
      },
      "execution_count": null,
      "outputs": []
    },
    {
      "cell_type": "code",
      "source": [
        "public class ReverseStack {\n",
        "\n",
        " // Function to insert at bottom\n",
        "    static void insertAtBottom(Stack<Integer> stack, int x) {\n",
        "        if (stack.isEmpty()) {\n",
        "            stack.push(x);\n",
        "            return;\n",
        "        }\n",
        "        int top = stack.pop();\n",
        "        insertAtBottom(stack, x);\n",
        "        stack.push(top);\n",
        "        }\n",
        "        // Function to reverse stack using recursion\n",
        "        static void reverse(Stack<Integer> stack) {\n",
        "        if (stack.isEmpty()) {\n",
        "            return;\n",
        "        }\n",
        "        int top = stack.pop();\n",
        "        reverse(stack);\n",
        "        insertAtBottom(stack, top);\n",
        "    }\n",
        "    public static void main(String[] args) {\n",
        "        Stack<Integer> stack = new Stack<>();\n",
        "        stack.push(3);\n",
        "        stack.push(1);\n",
        "        stack.push(4);\n",
        "        stack.push(2);\n",
        "        System.out.println(\"Original Stack: \" + stack);\n",
        "        reverse(stack);\n",
        "        System.out.println(\"Reversed Stack: \" + stack);\n",
        "    }\n",
        "}"
      ],
      "metadata": {
        "id": "5gVYwjmaTdto"
      },
      "execution_count": null,
      "outputs": []
    },
    {
      "cell_type": "code",
      "source": [
        "import java.util.*;\n",
        "public class SortStack {\n",
        "\n",
        "    public static void sortStack(Stack<Integer> stack) {\n",
        "        Stack<Integer> tempStack = new Stack<>();\n",
        "        while(!stack.isEmpty()){\n",
        "\n",
        "            int current = stack.pop();\n",
        "\n",
        "            while (!tempStack.isEmpty() && tempStack.peek() > current){\n",
        "            stack.push(tempStack.pop());\n",
        "            }\n",
        "\n",
        "            tempStack.push(current);\n",
        "        }\n",
        "        // Move elements back to original stack\n",
        "        while (!tempStack.isEmpty()) {\n",
        "        stack.push(tempStack.pop());\n",
        "        }\n",
        "    }\n",
        "    public static void main(String[] args) {\n",
        "    Stack<Integer> stack = new Stack<>();\n",
        "    stack.push(3);\n",
        "    stack.push(5);\n",
        "    stack.push(1);\n",
        "    stack.push(4);\n",
        "    stack.push(2);\n",
        "    System.out.println(\"Original Stack: \" + stack);\n",
        "    sortStack(stack);\n",
        "    System.out.println(\"Sorted Stack (ascending, smallest on top): \" + stack);\n",
        "    }\n",
        "}"
      ],
      "metadata": {
        "id": "WptpmozvTp2n"
      },
      "execution_count": null,
      "outputs": []
    },
    {
      "cell_type": "code",
      "source": [
        "import java.util.*;\n",
        "  public class StackPermutations {\n",
        "        // Recursive function to generate permutations\n",
        "        static void generatePermutations(List<Integer> input, Stack<Integer> stack,\n",
        "        List<Integer> output, List<List<Integer>> result) {\n",
        "        // Base case: input empty and stack empty -> one valid permutation\n",
        "        if (input.isEmpty() && stack.isEmpty()) {\n",
        "        result.add(new ArrayList<>(output));\n",
        "        return;\n",
        "    }\n",
        "    // Choice 1: Push next input element (if any left)\n",
        "    if (!input.isEmpty()) {\n",
        "        int next = input.remove(0);\n",
        "        stack.push(next);\n",
        "        generatePermutations(input, stack, output, result);\n",
        "        // backtrack\n",
        "        stack.pop();\n",
        "        input.add(0, next);\n",
        "    }\n",
        "    // Choice 2: Pop from stack (if not empty)\n",
        "    if (!stack.isEmpty()) {\n",
        "        int top = stack.pop();\n",
        "        output.add(top);\n",
        "        generatePermutations(input, stack, output, result);\n",
        "        // backtrack\n",
        "        output.remove(output.size() - 1);\n",
        "        stack.push(top);\n",
        "    }\n",
        "  }\n",
        "    public static void main(String[] args) {\n",
        "        int n = 4;\n",
        "        List<Integer> input = new ArrayList<>();\n",
        "        for (int i = 1; i <= n; i++) input.add(i);\n",
        "        Stack<Integer> stack = new Stack<>();\n",
        "        List<Integer> output = new ArrayList<>();\n",
        "        List<List<Integer>> result = new ArrayList<>();\n",
        "        generatePermutations(input, stack, output, result);\n",
        "        // Print all permutations\n",
        "        System.out.println(\"All valid stack permutations for n=\" + n + \":\");\n",
        "        for (List<Integer> seq : result) {\n",
        "        System.out.println(seq);\n",
        "        }\n",
        "    }\n",
        "}"
      ],
      "metadata": {
        "id": "1vRrWnZbUMVX"
      },
      "execution_count": null,
      "outputs": []
    }
  ]
}